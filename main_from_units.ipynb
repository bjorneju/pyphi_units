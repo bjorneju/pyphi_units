{
 "cells": [
  {
   "cell_type": "code",
   "execution_count": 1,
   "id": "2c3fc464-f837-4457-b63d-5f0cd15788cb",
   "metadata": {},
   "outputs": [
    {
     "data": {
      "application/javascript": [
       "if (!(\"Notification\" in window)) {\n",
       "    alert(\"This browser does not support desktop notifications, so the %%notify magic will not work.\");\n",
       "} else if (Notification.permission !== 'granted' && Notification.permission !== 'denied') {\n",
       "    Notification.requestPermission(function (permission) {\n",
       "        if(!('permission' in Notification)) {\n",
       "            Notification.permission = permission;\n",
       "        }\n",
       "    })\n",
       "}\n"
      ],
      "text/plain": [
       "<IPython.core.display.Javascript object>"
      ]
     },
     "metadata": {},
     "output_type": "display_data"
    },
    {
     "name": "stdout",
     "output_type": "stream",
     "text": [
      "\n",
      "Welcome to PyPhi!\n",
      "\n",
      "If you use PyPhi in your research, please cite the paper:\n",
      "\n",
      "  Mayner WGP, Marshall W, Albantakis L, Findlay G, Marchman R, Tononi G.\n",
      "  (2018). PyPhi: A toolbox for integrated information theory.\n",
      "  PLOS Computational Biology 14(7): e1006343.\n",
      "  https://doi.org/10.1371/journal.pcbi.1006343\n",
      "\n",
      "Documentation is available online (or with the built-in `help()` function):\n",
      "  https://pyphi.readthedocs.io\n",
      "\n",
      "To report issues, please use the issue tracker on the GitHub repository:\n",
      "  https://github.com/wmayner/pyphi\n",
      "\n",
      "For general discussion, you are welcome to join the pyphi-users group:\n",
      "  https://groups.google.com/forum/#!forum/pyphi-users\n",
      "\n",
      "To suppress this message, either:\n",
      "  - Set `WELCOME_OFF: true` in your `pyphi_config.yml` file, or\n",
      "  - Set the environment variable PYPHI_WELCOME_OFF to any value in your shell:\n",
      "        export PYPHI_WELCOME_OFF='yes'\n",
      "\n"
     ]
    }
   ],
   "source": [
    "%load_ext blackcellmagic\n",
    "%load_ext autoreload\n",
    "\n",
    "%matplotlib inline\n",
    "%autoreload 2\n",
    "%reload_ext jupyternotify\n",
    "%autonotify -a 300\n",
    "\n",
    "import pyphi\n",
    "import network_builder as nb\n",
    "import matplotlib.pyplot as plt\n",
    "import numpy as np\n",
    "\n",
    "from tqdm import tqdm"
   ]
  },
  {
   "cell_type": "markdown",
   "id": "733dd37a-acb4-4ac3-bbc1-26adbc4de31c",
   "metadata": {
    "tags": []
   },
   "source": [
    "# Define the substrate (from units up)"
   ]
  },
  {
   "cell_type": "code",
   "execution_count": 2,
   "id": "ce6f5f1c-a020-4ee5-a6f5-2bc51f156a0f",
   "metadata": {},
   "outputs": [],
   "source": [
    "N = 5\n",
    "labels = [\"A\", \"B\", \"C\", \"D\", \"E\"]"
   ]
  },
  {
   "cell_type": "markdown",
   "id": "f2dcb27a-2d08-4594-8a13-d287367e40c2",
   "metadata": {
    "tags": []
   },
   "source": [
    "### Define the units of the world"
   ]
  },
  {
   "cell_type": "code",
   "execution_count": 3,
   "id": "28954b28-e4d4-4e4e-9fbf-68037f506b90",
   "metadata": {},
   "outputs": [],
   "source": [
    "world_determinism = 8\n",
    "world_threshold = 0.5\n",
    "world_floor = 0.01\n",
    "world_ceiling = 0.99\n",
    "\n",
    "# weights\n",
    "world_far = -0.05\n",
    "world_close = 0.1\n",
    "world_self = 0.9\n",
    "world_weights = [world_far, world_close, world_self, world_close, world_far]\n",
    "\n",
    "world_unit = dict(\n",
    "    mechanism=\"sigmoid\",\n",
    "    params=dict(\n",
    "        input_weights=world_weights,\n",
    "        determinism=world_determinism,\n",
    "        threshold=world_threshold,\n",
    "        floor=world_floor,\n",
    "        ceiling=world_ceiling,\n",
    "    ),\n",
    ")"
   ]
  },
  {
   "cell_type": "code",
   "execution_count": 4,
   "id": "2eb234f5-0fd9-45de-8ca2-a186537b97d5",
   "metadata": {},
   "outputs": [],
   "source": [
    "world_inputs = (list(range(N)) * 3)[3:]\n",
    "\n",
    "world_units = [\n",
    "    nb.Unit(\n",
    "        index=i,\n",
    "        label=\"w_\" + labels[i],\n",
    "        inputs=world_inputs[i : i + N],\n",
    "        params=world_unit,\n",
    "    )\n",
    "    for i in range(N)\n",
    "]"
   ]
  },
  {
   "cell_type": "markdown",
   "id": "2cb60131-2584-4b16-b40a-eff2badf73e9",
   "metadata": {
    "tags": []
   },
   "source": [
    "## Define the grid units"
   ]
  },
  {
   "cell_type": "code",
   "execution_count": 5,
   "id": "73f16e34-42e7-4c06-b549-615e81b36fee",
   "metadata": {},
   "outputs": [],
   "source": [
    "mismatch_floor = 0.01\n",
    "mismatch_ceiling = 0.99\n",
    "\n",
    "mismatch_corrector = dict(\n",
    "    mechanism=\"mismatch_corrector\",\n",
    "    params=dict(\n",
    "        floor=mismatch_floor,\n",
    "        ceiling=mismatch_ceiling,\n",
    "    ),\n",
    ")\n"
   ]
  },
  {
   "cell_type": "code",
   "execution_count": 6,
   "id": "f5369f48-bec5-4721-a72e-69bb592b254b",
   "metadata": {},
   "outputs": [],
   "source": [
    "grid_inputs = (list(range(N,2*N)) * 3)[3:]\n",
    "grid_unit_combination = \"strongest\"\n",
    "\n",
    "grid_units = [\n",
    "    nb.CompositeUnit(\n",
    "        index=i+N,\n",
    "        label=\"g_\" + labels[i],\n",
    "        inputs=[tuple(grid_inputs[i : i + N]), (i,)],\n",
    "        params= [world_unit, mismatch_corrector],\n",
    "        mechanism_combination=grid_unit_combination,\n",
    "    ).Unit\n",
    "    for i in range(N)\n",
    "]"
   ]
  },
  {
   "cell_type": "markdown",
   "id": "7ea3558c-779c-4e37-ae94-eae4e9bdeaf2",
   "metadata": {
    "tags": []
   },
   "source": [
    "## Define the segment detector units"
   ]
  },
  {
   "cell_type": "code",
   "execution_count": 7,
   "id": "d09418d1-ac82-4950-a37d-7aebdfbc77af",
   "metadata": {},
   "outputs": [],
   "source": [
    "detector_selectivity = 10\n",
    "detector_floor = 0.01\n",
    "detector_ceiling = 1.0\n",
    "\n",
    "# a sor gate \"dot\" detector\n",
    "detector = dict(\n",
    "    mechanism=\"sor\",\n",
    "    params=dict(\n",
    "        pattern_selection=[(0,1,1,1,0)],\n",
    "        selectivity=detector_selectivity,\n",
    "        floor=detector_floor,\n",
    "        ceiling=detector_ceiling,\n",
    "    ),\n",
    ")\n",
    "\n",
    "# simple self loop\n",
    "detector_self_determinism = 5\n",
    "detector_self_threshold = 0.5\n",
    "detector_self_floor = 0.2\n",
    "detector_self_ceiling = 0.8\n",
    "self_loop = dict(\n",
    "    mechanism=\"sigmoid\",\n",
    "    params=dict(\n",
    "        input_weights=[0.9],\n",
    "        determinism=detector_self_determinism,\n",
    "        threshold=detector_self_threshold,\n",
    "        floor=detector_self_floor,\n",
    "        ceiling=detector_self_ceiling,\n",
    "    ),\n",
    ")\n"
   ]
  },
  {
   "cell_type": "code",
   "execution_count": 8,
   "id": "6a604c49-32b8-45c6-a33d-29ac2a8c57e6",
   "metadata": {},
   "outputs": [],
   "source": [
    "detector_unit_combination = 'average'\n",
    "\n",
    "detector_units = [\n",
    "    nb.CompositeUnit(\n",
    "        index=i+2*N,\n",
    "        label=\"d_\" + labels[i],\n",
    "        inputs=[tuple(grid_inputs[i : i + N]), (i+2*N,)],\n",
    "        params= [detector, self_loop],\n",
    "        mechanism_combination=detector_unit_combination,\n",
    "    ).Unit\n",
    "    for i in range(N)\n",
    "]"
   ]
  },
  {
   "cell_type": "markdown",
   "id": "0a36fed9-0359-4cf7-b79f-1ffa26e2452b",
   "metadata": {
    "tags": []
   },
   "source": [
    "## Define the SOR and the output units"
   ]
  },
  {
   "cell_type": "code",
   "execution_count": 9,
   "id": "a272e8b5-74ac-4ebe-83e9-51ad37bc9363",
   "metadata": {},
   "outputs": [],
   "source": [
    "sor_selectivity = 10\n",
    "sor_floor = 0.01\n",
    "sor_ceiling = 1.0\n",
    "\n",
    "# a sor gate \"dot\" detector\n",
    "open_sor = dict(\n",
    "    mechanism=\"sor\",\n",
    "    params=dict(\n",
    "        pattern_selection=[s for s in pyphi.utils.all_states(N) if sum(s)==1],\n",
    "        selectivity=sor_selectivity,\n",
    "        floor=sor_floor,\n",
    "        ceiling=sor_ceiling,\n",
    "    ),\n",
    ")\n",
    "\n",
    "# simple self loop\n",
    "sor_self_determinism = 5\n",
    "sor_self_threshold = 0.5\n",
    "sor_self_floor = 0.2\n",
    "sor_self_ceiling = 0.8\n",
    "self_loop = dict(\n",
    "    mechanism=\"sigmoid\",\n",
    "    params=dict(\n",
    "        input_weights=[0.9],\n",
    "        determinism=sor_self_determinism,\n",
    "        threshold=sor_self_threshold,\n",
    "        floor=sor_self_floor,\n",
    "        ceiling=sor_self_ceiling,\n",
    "    ),\n",
    ")\n"
   ]
  },
  {
   "cell_type": "code",
   "execution_count": 10,
   "id": "9b3f0fe6-dfb4-4d82-a190-be3f9b7ee431",
   "metadata": {},
   "outputs": [],
   "source": [
    "sor_unit_combination = \"average\"\n",
    "\n",
    "sor_unit = [\n",
    "    nb.CompositeUnit(\n",
    "        index=3*N,\n",
    "        label=\"SOR\",\n",
    "        inputs=[tuple(range(2*N,3*N)), (3*N,)],\n",
    "        params= [open_sor, self_loop],\n",
    "        mechanism_combination=sor_unit_combination,\n",
    "    ).Unit\n",
    "]"
   ]
  },
  {
   "cell_type": "code",
   "execution_count": 11,
   "id": "68edae32-9045-482e-b85f-b85211e65a35",
   "metadata": {},
   "outputs": [],
   "source": [
    "output_floor = 0.1\n",
    "output_ceiling = 0.9\n",
    "\n",
    "# a sor gate \"dot\" detector\n",
    "copy = dict(\n",
    "    mechanism=\"copy\",\n",
    "    params=dict(\n",
    "        floor=sor_floor,\n",
    "        ceiling=sor_ceiling,\n",
    "    ),\n",
    ")\n",
    "\n",
    "# simple self loop\n",
    "sor_self_determinism = 5\n",
    "sor_self_threshold = 0.5\n",
    "sor_self_floor = 0.2\n",
    "sor_self_ceiling = 0.8\n",
    "self_loop = dict(\n",
    "    mechanism=\"sigmoid\",\n",
    "    params=dict(\n",
    "        input_weights=[0.9],\n",
    "        determinism=sor_self_determinism,\n",
    "        threshold=sor_self_threshold,\n",
    "        floor=sor_self_floor,\n",
    "        ceiling=sor_self_ceiling,\n",
    "    ),\n",
    ")\n"
   ]
  },
  {
   "cell_type": "code",
   "execution_count": 12,
   "id": "a0379f13-edf1-46b8-9cbf-49d12a695572",
   "metadata": {},
   "outputs": [],
   "source": [
    "output = [\n",
    "    nb.CompositeUnit(\n",
    "        index=3*N+1,\n",
    "        label=\"out\",\n",
    "        inputs=[(3*N,), (3*N+1,)],\n",
    "        params= [mismatch_corrector, self_loop],\n",
    "        mechanism_combination=grid_unit_combination,\n",
    "    ).Unit\n",
    "]"
   ]
  },
  {
   "cell_type": "markdown",
   "id": "b8b5fa8e-9bf2-4cd8-b822-9c7268e7b163",
   "metadata": {
    "tags": []
   },
   "source": [
    "## Build the substrates"
   ]
  },
  {
   "cell_type": "markdown",
   "id": "9733bcd9-58ea-4ef6-b0f6-9d7d4ffe6ae6",
   "metadata": {},
   "source": [
    "### only world"
   ]
  },
  {
   "cell_type": "code",
   "execution_count": 13,
   "id": "5527fc50-b788-415c-8263-49ddb0f8bd07",
   "metadata": {},
   "outputs": [
    {
     "name": "stderr",
     "output_type": "stream",
     "text": [
      "100%|██████████████████████████████████████████████████████████████████████████████████| 32/32 [00:00<00:00, 558.66it/s]\n"
     ]
    }
   ],
   "source": [
    "substrate_world = nb.Substrate(world_units)"
   ]
  },
  {
   "cell_type": "markdown",
   "id": "18dc71d7-ef07-438b-86bd-e231a91726b8",
   "metadata": {},
   "source": [
    "### world and grid"
   ]
  },
  {
   "cell_type": "code",
   "execution_count": 14,
   "id": "05e2b900-2531-4a73-b574-c1e29f652cf3",
   "metadata": {
    "tags": []
   },
   "outputs": [
    {
     "name": "stderr",
     "output_type": "stream",
     "text": [
      "100%|██████████████████████████████████████████████████████████████████████████████| 1024/1024 [00:03<00:00, 281.89it/s]\n"
     ]
    }
   ],
   "source": [
    "substrate_grid = nb.Substrate(world_units+grid_units)"
   ]
  },
  {
   "cell_type": "markdown",
   "id": "7e4caea0-eeed-45b2-9399-8194ea6840a3",
   "metadata": {},
   "source": [
    "### with pyramid and output"
   ]
  },
  {
   "cell_type": "code",
   "execution_count": null,
   "id": "4c4ab2b9-5281-4b47-aeff-2c08652f4cfc",
   "metadata": {
    "tags": []
   },
   "outputs": [
    {
     "name": "stderr",
     "output_type": "stream",
     "text": [
      " 29%|█████████████████████▊                                                      | 18763/65536 [01:14<02:47, 279.50it/s]"
     ]
    }
   ],
   "source": [
    "substrate_full = nb.Substrate(world_units+grid_units+detector_units+sor_unit)"
   ]
  },
  {
   "cell_type": "markdown",
   "id": "02de0da1-33f1-4045-ae80-7b6409e95fca",
   "metadata": {
    "tags": []
   },
   "source": [
    "## Plot subtrates"
   ]
  },
  {
   "cell_type": "code",
   "execution_count": null,
   "id": "95ea0b1f-795a-4a2e-a2c4-c1bcdad8140f",
   "metadata": {},
   "outputs": [],
   "source": [
    "substrate_world.plot_model()\n"
   ]
  },
  {
   "cell_type": "code",
   "execution_count": null,
   "id": "9bfbb2d3-fde2-45ec-b1e9-01cd2361e82b",
   "metadata": {},
   "outputs": [],
   "source": [
    "substrate_grid.plot_model()"
   ]
  },
  {
   "cell_type": "code",
   "execution_count": null,
   "id": "15a4af09-350d-473a-b814-9b3ddcf2b5ab",
   "metadata": {},
   "outputs": [],
   "source": [
    "substrate_full.plot_model()"
   ]
  },
  {
   "cell_type": "markdown",
   "id": "5eecb83f-51c1-404d-ba7a-e206dbd49d0b",
   "metadata": {
    "tags": []
   },
   "source": [
    "# Inspect dynamics"
   ]
  },
  {
   "cell_type": "markdown",
   "id": "ce2bebfd-575d-42fc-8894-58d697bb50d2",
   "metadata": {
    "tags": []
   },
   "source": [
    "## Simulate substrates"
   ]
  },
  {
   "cell_type": "code",
   "execution_count": null,
   "id": "78b20360-52b7-4a8b-9102-55901841a94a",
   "metadata": {},
   "outputs": [],
   "source": [
    "time_steps = 1000000\n",
    "data_world = np.array(\n",
    "    [list(s) for s in substrate_world.simulate(timesteps=time_steps)]\n",
    ").T\n",
    "\n",
    "data_grid = np.array([list(s) for s in substrate_grid.simulate(timesteps=time_steps)]).T\n",
    "\n",
    "data_full = np.array([list(s) for s in substrate_full.simulate(timesteps=time_steps)]).T"
   ]
  },
  {
   "cell_type": "code",
   "execution_count": null,
   "id": "7e0678d8-4d95-457c-a43e-9db36c4708c7",
   "metadata": {},
   "outputs": [],
   "source": [
    "\n",
    "plt.figure(figsize=(25,5))\n",
    "plt.imshow(data_full,aspect='auto',interpolation= 'none')\n",
    "plt.title('Example dynamics of the full substrate')\n",
    "plt.ylabel('Substrate state')\n",
    "plt.xlabel('Time')\n",
    "plt.yticks(substrate_full.node_indices, substrate_full.node_labels)\n",
    "plt.show()"
   ]
  },
  {
   "cell_type": "code",
   "execution_count": null,
   "id": "9039730c-b01e-4037-9efa-b012ab4cb952",
   "metadata": {},
   "outputs": [],
   "source": [
    "t1, t2 = 100,250\n",
    "plt.figure(figsize=(25,5))\n",
    "plt.imshow(data_full[:,t1:t2],aspect='auto',interpolation= 'none')\n",
    "plt.title('Example dynamics of the substrate from t={} to t={}'.format(t1,t2))\n",
    "plt.ylabel('Substrate state')\n",
    "plt.xlabel('Time')\n",
    "plt.yticks(substrate_full.node_indices, substrate_full.node_labels)\n",
    "plt.show()"
   ]
  },
  {
   "cell_type": "markdown",
   "id": "aabd027c-8c71-4851-8b21-5d9e9c77cabc",
   "metadata": {
    "tags": []
   },
   "source": [
    "## Inspect correlations in data"
   ]
  },
  {
   "cell_type": "code",
   "execution_count": null,
   "id": "5c1b2902-692d-4b97-a865-83da02c942d9",
   "metadata": {},
   "outputs": [],
   "source": [
    "corr_world, corr_grid, corr_full = np.corrcoef(data_world), np.corrcoef(data_grid), np.corrcoef(data_full)"
   ]
  },
  {
   "cell_type": "code",
   "execution_count": null,
   "id": "76f45d7b-25f2-4c8e-aab5-87ec588c1898",
   "metadata": {},
   "outputs": [],
   "source": [
    "\n",
    "plt.figure(figsize=(15,5))\n",
    "plt.subplot(131)\n",
    "plt.imshow(corr_world,aspect='auto',interpolation= 'none',vmin=0,vmax=1)\n",
    "plt.title('world only')\n",
    "plt.yticks(substrate_world.node_indices, substrate_world.node_labels)\n",
    "plt.xticks(substrate_world.node_indices, substrate_world.node_labels, rotation=90)\n",
    "\n",
    "plt.subplot(132)\n",
    "plt.imshow(corr_grid,aspect='auto',interpolation= 'none',vmin=0,vmax=1)\n",
    "plt.title('world and grid')\n",
    "plt.yticks(substrate_grid.node_indices, substrate_grid.node_labels)\n",
    "plt.xticks(substrate_grid.node_indices, substrate_grid.node_labels, rotation=90)\n",
    "\n",
    "plt.subplot(133)\n",
    "plt.imshow(corr_full,aspect='auto',interpolation= 'none',vmin=0,vmax=1)\n",
    "plt.title('full model')\n",
    "plt.yticks(substrate_full.node_indices, substrate_full.node_labels)\n",
    "plt.xticks(substrate_full.node_indices, substrate_full.node_labels, rotation=90);"
   ]
  },
  {
   "cell_type": "markdown",
   "id": "49041224-927d-4610-bbe3-c1d206cd57e0",
   "metadata": {
    "tags": []
   },
   "source": [
    "## Histograms of past and future states given present state (for some subset of units=)"
   ]
  },
  {
   "cell_type": "code",
   "execution_count": null,
   "id": "8d10fa04-4eed-479e-81ef-9d86895aa245",
   "metadata": {},
   "outputs": [],
   "source": [
    "def get_subset_constraints(data, subset_ixs):\n",
    "    samples = len(data[0])\n",
    "    past_dists = {\n",
    "        state: {sub_state: 0 for sub_state in pyphi.utils.all_states(len(subset_ixs))}\n",
    "        for state in pyphi.utils.all_states(len(data))\n",
    "    }\n",
    "    future_dists = {\n",
    "        state: {sub_state: 0 for sub_state in pyphi.utils.all_states(len(subset_ixs))}\n",
    "        for state in pyphi.utils.all_states(len(data))\n",
    "    }\n",
    "\n",
    "    for past, present, future in zip(data[:, :-2].T, data[:, 1:-1].T, data[:, 2:].T):\n",
    "        subset_state = tuple([present[ix] for ix in subset_ixs])\n",
    "\n",
    "        past_dists[tuple(past)][subset_state] += 1 / samples\n",
    "        future_dists[tuple(future)][subset_state] += 1 / samples\n",
    "\n",
    "    past_unconstrained = {\n",
    "        state: np.mean([p for p in past_dists[state].values()])\n",
    "        for state in pyphi.utils.all_states(len(data))\n",
    "    }\n",
    "    future_unconstrained = {\n",
    "        state: np.mean([p for p in future_dists[state].values()])\n",
    "        for state in pyphi.utils.all_states(len(data))\n",
    "    }\n",
    "\n",
    "    return past_dists, future_dists, past_unconstrained, future_unconstrained\n",
    "\n",
    "def plot_past_and_future(data, subset_ixs, subset_state, n_states = 20):\n",
    "    past_dists, future_dists, past_unconstrained, future_unconstrained = get_subset_constraints(data, subset_ixs)\n",
    "    \n",
    "    all_states = list(past_dists.keys())\n",
    "    sub_states = list(past_dists[all_states[0]].keys())\n",
    "    \n",
    "    n_sub_states = len(sub_states)\n",
    "    \n",
    "    plt.figure(figsize=(20,5))\n",
    "    \n",
    "    for s,sub_state in enumerate(sub_states):\n",
    "        if sub_state == subset_state:\n",
    "            high_p_pasts = sorted(all_states, key=lambda x:past_dists[x][sub_state], reverse=True)[:n_states]\n",
    "            high_p_futures = sorted(all_states, key=lambda x:future_dists[x][sub_state], reverse=True)[:n_states]\n",
    "\n",
    "            past_index = []\n",
    "            past = []\n",
    "            past_uc = []\n",
    "            future_index = []\n",
    "            future = []\n",
    "            future_uc = []\n",
    "            for p_s, f_s in zip(high_p_pasts, high_p_futures):\n",
    "                past_index.append(p_s)\n",
    "                past.append(past_dists[p_s][sub_state])\n",
    "                past_uc.append(past_unconstrained[p_s])\n",
    "                future_index.append(f_s)\n",
    "                future.append(future_dists[f_s][sub_state])\n",
    "                future_uc.append(future_unconstrained[f_s])\n",
    "\n",
    "            plt.subplot(1,2,1)\n",
    "            ticks = [''.join([str(i) for i in ind]) for ind in past_index]\n",
    "\n",
    "            plt.bar(ticks, past, color='red', edgecolor='red')\n",
    "            plt.xticks(tuple(range(len(ticks))), ticks, rotation=90)\n",
    "\n",
    "            ticks = [''.join([str(i) for i in ind]) for ind in past_index]\n",
    "            plt.bar(ticks, past_uc, color='white', edgecolor='red', alpha=0.5)\n",
    "            plt.xticks(tuple(range(len(ticks))), ticks, rotation=90)\n",
    "            \n",
    "            p_chance = 1/len(all_states)\n",
    "            print(p_chance)\n",
    "            plt.plot([0, n_states],[p_chance, p_chance], 'r:')\n",
    "            plt.title('Empirical probabilities of states in the past,\\ngiven that {} was in state {}'.format(subset_ixs, subset_state))\n",
    "\n",
    "            plt.subplot(1,2,2)\n",
    "            ticks = [''.join([str(i) for i in ind]) for ind in future_index]\n",
    "            plt.bar(ticks, future, color='green', edgecolor='green')\n",
    "            plt.xticks(tuple(range(len(ticks))), ticks, rotation=90)\n",
    "            ticks = [''.join([str(i) for i in ind]) for ind in future_index]\n",
    "            plt.bar(ticks, future_uc, color='white', edgecolor='green', alpha=0.5)\n",
    "            plt.xticks(tuple(range(len(ticks))), ticks, rotation=90)\n",
    "            plt.title('Empirical probabilities of states in the future,\\ngiven that {} was in state {}'.format(subset_ixs, subset_state))\n",
    "        \n",
    "    \n",
    "    "
   ]
  },
  {
   "cell_type": "code",
   "execution_count": null,
   "id": "a9c30250-ecec-46d8-b8db-6e5945de34bc",
   "metadata": {},
   "outputs": [],
   "source": [
    "plot_past_and_future(data_full, (12,), (1,), n_states = 50)"
   ]
  },
  {
   "cell_type": "markdown",
   "id": "155dec05-f852-4dee-ac18-1d04551fb304",
   "metadata": {},
   "source": [
    "# Compute matching quantities"
   ]
  },
  {
   "cell_type": "markdown",
   "id": "f73539d6-fd4a-47d6-8802-a5db791af8c0",
   "metadata": {},
   "source": [
    "## first some connectedness"
   ]
  },
  {
   "cell_type": "code",
   "execution_count": null,
   "id": "28655246-c2b0-49d7-80be-faa319f69f73",
   "metadata": {},
   "outputs": [],
   "source": [
    "import sys \n",
    "sys.path.insert(0, '/home/bjuel/projects/matching/matching')\n",
    "import pickle\n",
    "import random\n",
    "from copy import deepcopy\n",
    "from datetime import datetime\n",
    "from pathlib import Path\n",
    "\n",
    "import pandas as pd\n",
    "import pyphi\n",
    "from joblib import Parallel, delayed\n",
    "from pyphi.models.subsystem import FlatCauseEffectStructure as FlatCES\n",
    "from pyphi.relations import Relation\n",
    "from tqdm.auto import tqdm\n",
    "from visualize_pyphi import compute as cp\n",
    "from visualize_pyphi import visualize_ces as viz\n",
    "\n",
    "import compute\n",
    "import connectedness\n",
    "import utils\n",
    "\n",
    "from model import Model, Params\n",
    "%cd /home/bjuel/projects/matching/matching"
   ]
  },
  {
   "cell_type": "code",
   "execution_count": null,
   "id": "be84092a-e76a-47e5-b475-94140afc17d9",
   "metadata": {},
   "outputs": [],
   "source": [
    "# Directory to store output in\n",
    "date = datetime.today().strftime(\"%Y-%m-%d\")\n",
    "OUTPUT_DIR = Path(f\"data/matching/{date}_bej\")\n",
    "OUTPUT_DIR.mkdir(exist_ok=True)\n",
    "\n",
    "# Directory to load previously-computed data from\n",
    "LOAD_DIR = Path(\"data/matching/2022-01-28__will\")\n",
    "LOAD_DIR.exists()\n",
    "LOAD_DIR = None\n",
    "\n",
    "TAU = 10\n",
    "\n",
    "PARALLEL = True\n",
    "PARALLEL_KWARGS = dict(n_jobs=-1, verbose=10)"
   ]
  },
  {
   "cell_type": "code",
   "execution_count": null,
   "id": "55f646a2-4db4-4cac-9ab5-aee70dc2e3d2",
   "metadata": {
    "tags": []
   },
   "outputs": [],
   "source": [
    "def matching_quantities(substrate):\n",
    "\n",
    "    # Input-constrained TPM\n",
    "    if LOAD_DIR is not None:\n",
    "        assert LOAD_DIR.exists()\n",
    "        INPUT_CONSTRAINED_TPM = pd.read_pickle(LOAD_DIR / f\"tpm_tau-{TAU}__triggering.pkl\")\n",
    "        print(\"Loaded input constrained tpm.\")\n",
    "    else:\n",
    "        print(\"No load directory specified; not loading input-constrained TPMs.\")\n",
    "\n",
    "    # Compute    \n",
    "    if \"INPUT_CONSTRAINED_TPM\" not in locals():\n",
    "        print(\"computing input constrained tpm\")\n",
    "        INPUT_CONSTRAINED_TPM = connectedness.get_input_constrained_tpm(\n",
    "            substrate,\n",
    "            TAU,\n",
    "            input_subset=tuple(range(N)),\n",
    "            parallel=PARALLEL,\n",
    "            parallel_kwargs=PARALLEL_KWARGS,\n",
    "        )\n",
    "        INPUT_CONSTRAINED_TPM.to_pickle(OUTPUT_DIR / f\"tpm_tau-{TAU}__triggering.pkl\")\n",
    "    else:\n",
    "        print(\"INPUT_CONSTRAINED_TPM exists; not overwriting\")\n",
    "\n",
    "    # Unconstrained distributions    \n",
    "    if LOAD_DIR is not None:\n",
    "        assert LOAD_DIR.exists()\n",
    "        UNCONSTRAINED_DISTRIBUTION = pd.read_pickle(\n",
    "            LOAD_DIR / \"unconstrained_distribution__triggering.pkl\"\n",
    "        )\n",
    "        print(\"Loaded unconstrained distribution.\")\n",
    "    else:\n",
    "        print(\"No load directory specified; not loading unconstrained distributions.\")\n",
    "\n",
    "    #compute\n",
    "    if \"UNCONSTRAINED_DISTRIBUTION\" not in locals():\n",
    "        UNCONSTRAINED_DISTRIBUTION = connectedness.get_unconstrained_system_distribution(\n",
    "            substrate,\n",
    "            TAU,\n",
    "            parallel=PARALLEL,\n",
    "            parallel_kwargs=PARALLEL_KWARGS,\n",
    "        )\n",
    "        UNCONSTRAINED_DISTRIBUTION.to_pickle(\n",
    "            OUTPUT_DIR / f\"unconstrained_distribution__triggering.pkl\"\n",
    "        )\n",
    "    else:\n",
    "        print(\"UNCONSTRAINED_DISTRIBUTIONS exists; not overwriting\")\n",
    "\n",
    "    # Percolated states\n",
    "    STATES = connectedness.percolated_states(INPUT_CONSTRAINED_TPM)\n",
    "    return INPUT_CONSTRAINED_TPM, UNCONSTRAINED_DISTRIBUTION, STATES"
   ]
  },
  {
   "cell_type": "code",
   "execution_count": null,
   "id": "3a887c0d-30b6-4dcc-9d30-6dda3bdbb29f",
   "metadata": {},
   "outputs": [],
   "source": [
    "substrate = substrate_full.get_network()\n",
    "m = Model(substrate_full)\n",
    "INPUT_CONSTRAINED_TPM, UNCONSTRAINED_DISTRIBUTION, STATES = matching_quantities(m)"
   ]
  },
  {
   "cell_type": "markdown",
   "id": "563538a4-b428-4714-91da-2f4698007c73",
   "metadata": {},
   "source": [
    "## Unfold stuff to make a CES DF"
   ]
  },
  {
   "cell_type": "markdown",
   "id": "a88f15b7-27cf-43ee-b577-78a08ad33d94",
   "metadata": {
    "tags": []
   },
   "source": [
    "### Create subsystems (only full model for now)"
   ]
  },
  {
   "cell_type": "code",
   "execution_count": null,
   "id": "ff4b8aa2-5319-4a9f-a10d-f202e665b351",
   "metadata": {
    "tags": []
   },
   "outputs": [],
   "source": [
    "def worker(substrate, state):\n",
    "    system_indices = substrate_full.node_indices[N:]\n",
    "    return substrate.get_subsystem(state, system_indices)\n",
    "\n",
    "\n",
    "SUBSYSTEMS = {state: worker(substrate_full, state) for state in tqdm(STATES)}\n",
    "\n",
    "with open(OUTPUT_DIR / \"subsystems.pkl\", \"wb\") as f:\n",
    "    pickle.dump(SUBSYSTEMS, f)"
   ]
  },
  {
   "cell_type": "markdown",
   "id": "b3026095-e372-45a2-8d87-98f222151d65",
   "metadata": {
    "tags": []
   },
   "source": [
    "### Compute CES"
   ]
  },
  {
   "cell_type": "markdown",
   "id": "8dd9494a-98f7-49cc-a40b-fab32aee8990",
   "metadata": {},
   "source": [
    "#### Load"
   ]
  },
  {
   "cell_type": "code",
   "execution_count": null,
   "id": "61f68e3f-f31e-41c3-b6fa-7f8e9649a84e",
   "metadata": {
    "tags": []
   },
   "outputs": [],
   "source": [
    "if LOAD_DIR is not None:\n",
    "    CES = pd.read_pickle(LOAD_DIR / \"full_ces__settled.pkl\")\n",
    "    print('Loaded CES.')\n",
    "else:\n",
    "    print(\"No load directory specified; not loading CES.\")"
   ]
  },
  {
   "cell_type": "markdown",
   "id": "3dcf4013-326d-4e92-ab8c-108d4d5b60ed",
   "metadata": {
    "execution": {
     "iopub.execute_input": "2022-01-03T20:49:06.259478Z",
     "iopub.status.busy": "2022-01-03T20:49:06.258920Z",
     "iopub.status.idle": "2022-01-03T20:49:06.290576Z",
     "shell.execute_reply": "2022-01-03T20:49:06.289835Z",
     "shell.execute_reply.started": "2022-01-03T20:49:06.259427Z"
    },
    "tags": []
   },
   "source": [
    "#### Compute"
   ]
  },
  {
   "cell_type": "markdown",
   "id": "a015f9e8-024c-47be-a338-da704729b2bf",
   "metadata": {
    "execution": {
     "iopub.execute_input": "2022-01-03T20:48:45.769844Z",
     "iopub.status.busy": "2022-01-03T20:48:45.769221Z",
     "iopub.status.idle": "2022-01-03T20:48:45.812669Z",
     "shell.execute_reply": "2022-01-03T20:48:45.811850Z",
     "shell.execute_reply.started": "2022-01-03T20:48:45.769767Z"
    },
    "tags": []
   },
   "source": [
    "##### Choose mechanisms and purviews"
   ]
  },
  {
   "cell_type": "code",
   "execution_count": null,
   "id": "a9368456-5133-45a4-b709-1ac4ff328ed3",
   "metadata": {
    "tags": []
   },
   "outputs": [],
   "source": [
    "LAYER_SIZE = N\n",
    "max_num_mechanisms = LAYER_SIZE * 15\n",
    "max_mechanism_size = LAYER_SIZE\n",
    "max_purview_size = LAYER_SIZE\n",
    "\n",
    "indices = system_indices = substrate_full.node_indices[N:]\n",
    "\n",
    "\n",
    "mechanisms = tuple(\n",
    "    set(\n",
    "        tuple(\n",
    "            pyphi.utils.powerset(\n",
    "                indices[LAYER_SIZE:], nonempty=True, max_size=max_mechanism_size\n",
    "            )\n",
    "        )\n",
    "        + tuple(\n",
    "            pyphi.utils.powerset(\n",
    "                indices[:LAYER_SIZE], nonempty=True, max_size=max_mechanism_size\n",
    "            )\n",
    "        )\n",
    "        + tuple(pyphi.utils.powerset(indices, nonempty=True, max_size=2))\n",
    "    )\n",
    ")\n",
    "\n",
    "\n",
    "# Restrict to a random sample if mechanisms are too numerous\n",
    "if len(mechanisms) > max_num_mechanisms:\n",
    "    mechanisms = random.sample(mechanisms, max_num_mechanisms)\n",
    "\n",
    "purviews = tuple(\n",
    "    pyphi.utils.powerset(indices, nonempty=True, max_size=max_purview_size)\n",
    ")"
   ]
  },
  {
   "cell_type": "code",
   "execution_count": null,
   "id": "bc0eb71d-15fb-4d61-8f52-1bae74d5fb83",
   "metadata": {},
   "outputs": [],
   "source": [
    "LAYER_SIZE = N\n",
    "max_num_mechanisms = LAYER_SIZE * 15\n",
    "max_mechanism_size = LAYER_SIZE\n",
    "max_purview_size = LAYER_SIZE\n",
    "\n",
    "system_indices = substrate_full.node_indices[N:]\n",
    "\n",
    "\n",
    "mechanisms = tuple([(5,), (5,6), (5,6,7), (5,7),\n",
    "              (10,), (10,11), (10,5), (15,)])\n",
    "\n",
    "purviews = tuple(list(pyphi.utils.powerset((5,6,7,8,9),nonempty=True))+list(pyphi.utils.powerset((10,11,12,13,14),nonempty=True, min_size=4)))"
   ]
  },
  {
   "cell_type": "code",
   "execution_count": null,
   "id": "e89c07f3-9870-4ccd-a778-c72b1876bacb",
   "metadata": {
    "tags": []
   },
   "outputs": [],
   "source": [
    "PARALLEL_CES = False"
   ]
  },
  {
   "cell_type": "code",
   "execution_count": null,
   "id": "144c7f5b-7385-4753-9ce1-a072725d92b5",
   "metadata": {
    "tags": []
   },
   "outputs": [],
   "source": [
    "def worker(substrate, state, mechanisms, purviews):\n",
    "    # Create new Model object with state attached (required for SOR & detector units)\n",
    "    model = Model(substrate, state=state)\n",
    "    subsystem = SUBSYSTEMS[state]\n",
    "    ces = FlatCES(\n",
    "        pyphi.compute.ces(\n",
    "            subsystem,\n",
    "            mechanisms=mechanisms,\n",
    "            purviews=purviews,\n",
    "            parallel=PARALLEL_CES,\n",
    "        )\n",
    "    )\n",
    "    return ces"
   ]
  },
  {
   "cell_type": "code",
   "execution_count": null,
   "id": "093cddf3-1372-486d-b88c-ec7ae24fdbcb",
   "metadata": {
    "tags": []
   },
   "outputs": [],
   "source": [
    "if \"CES\" not in locals():\n",
    "    CES = {\n",
    "        state: worker(\n",
    "            substrate_full,\n",
    "            state,\n",
    "            mechanisms=mechanisms,\n",
    "            purviews=purviews,\n",
    "        )\n",
    "        for state in tqdm(STATES)\n",
    "    }\n",
    "    with open(OUTPUT_DIR / \"full_ces.pkl\", \"wb\") as f:\n",
    "        pickle.dump(CES, f)\n",
    "else:\n",
    "    print(\"CES exists; not overwriting\")"
   ]
  },
  {
   "cell_type": "code",
   "execution_count": null,
   "id": "6b68c1d8-2b11-4f06-87d9-a78c6816252c",
   "metadata": {
    "tags": []
   },
   "outputs": [],
   "source": [
    "with open(OUTPUT_DIR / \"full_ces__settled.pkl\", \"wb\") as f:\n",
    "    pickle.dump(CES, f)"
   ]
  },
  {
   "cell_type": "markdown",
   "id": "73f610e8-afb8-4949-a4a6-61c7ce7ad209",
   "metadata": {
    "tags": []
   },
   "source": [
    "### Create CES dataframe"
   ]
  },
  {
   "cell_type": "code",
   "execution_count": null,
   "id": "565c8845-7355-48a3-9a7e-3dccbddeaae3",
   "metadata": {
    "tags": []
   },
   "outputs": [],
   "source": [
    "ces_df = pd.concat(\n",
    "    utils.flat_ces_to_df(\n",
    "        ces,\n",
    "        ties=True,\n",
    "        progress=False,\n",
    "    ).assign(name='full_substrate')\n",
    "    for state, ces in tqdm(CES.items())\n",
    ")"
   ]
  },
  {
   "cell_type": "code",
   "execution_count": null,
   "id": "0d87ce2d-df19-44fd-bc56-f33ce9707379",
   "metadata": {
    "tags": []
   },
   "outputs": [],
   "source": [
    "path = OUTPUT_DIR / \"ces_df.pkl\"\n",
    "ces_df.to_pickle(path)\n",
    "print(f\"Wrote to `{path}`\")"
   ]
  },
  {
   "cell_type": "markdown",
   "id": "00f14da5-caaf-4441-aefc-7f646c11c275",
   "metadata": {
    "tags": []
   },
   "source": [
    "### Compute matching data"
   ]
  },
  {
   "cell_type": "code",
   "execution_count": null,
   "id": "99ba9b9a-c97d-42d3-98b0-c969133a2dd8",
   "metadata": {
    "tags": []
   },
   "outputs": [],
   "source": [
    "if LOAD_DIR is not None:\n",
    "    path = LOAD_DIR / \"matching_data.pkl\"\n",
    "    if path.exists():\n",
    "        all_data = pd.read_pickle(path)\n",
    "        print('Loaded matching data.')\n",
    "    else:\n",
    "        print(\"No file found.\")\n",
    "else:\n",
    "    print(\"No load directory specified; not loading matching data.\")"
   ]
  },
  {
   "cell_type": "code",
   "execution_count": null,
   "id": "da2207cb-51b8-4b14-9324-bfe9f1eca3c2",
   "metadata": {
    "tags": []
   },
   "outputs": [],
   "source": [
    "from tqdm.notebook import tqdm\n",
    "tqdm.pandas()\n",
    "\n",
    "input_indices = tuple(range(N))\n",
    "system_indices = substrate_full.node_indices[N:]\n",
    "\n",
    "if \"all_data\" not in locals():\n",
    "    path.parent.mkdir(exist_ok=True, parents=True)\n",
    "\n",
    "    all_data = compute.ces_df_to_matching_df(\n",
    "        m,\n",
    "        ces_df,\n",
    "        TAU,\n",
    "        input_indices,\n",
    "        system_indices,\n",
    "        connectedness_col=\"connectedness\",\n",
    "        input_constrained_tpm=INPUT_CONSTRAINED_TPM,\n",
    "        unconstrained_distribution=UNCONSTRAINED_DISTRIBUTION,\n",
    "        target_subset=\"mechanism\",\n",
    "        parallel=PARALLEL,\n",
    "        parallel_kwargs={\n",
    "            **PARALLEL_KWARGS,\n",
    "            'batch_size': 10,\n",
    "        },\n",
    "    )\n",
    "else:\n",
    "    print(\"all_data exists; not overwriting\")"
   ]
  },
  {
   "cell_type": "code",
   "execution_count": null,
   "id": "8ee0302e-5891-4ca3-afba-f0b747cd3b85",
   "metadata": {
    "tags": []
   },
   "outputs": [],
   "source": [
    "delete_distinctions = True\n",
    "path = OUTPUT_DIR / \"matching_data.pkl\"\n",
    "\n",
    "try:\n",
    "    data = all_data.drop(columns=\"distinction\")\n",
    "except KeyError:\n",
    "    data = all_data\n",
    "\n",
    "data.to_pickle(path)\n",
    "print(f\"Wrote data to `{path}`\")"
   ]
  },
  {
   "cell_type": "markdown",
   "id": "98932990-c3ce-41b7-8886-0293d30fd767",
   "metadata": {},
   "source": [
    "---"
   ]
  },
  {
   "cell_type": "markdown",
   "id": "daa8e5ff-b359-4d70-9262-13b641deed20",
   "metadata": {
    "tags": []
   },
   "source": [
    "# Compute relations"
   ]
  },
  {
   "cell_type": "code",
   "execution_count": null,
   "id": "ef42a69e-d6b1-432f-bde6-c8045e142b14",
   "metadata": {
    "tags": []
   },
   "outputs": [],
   "source": [
    "from pyphi.big_phi import PhiStructure"
   ]
  },
  {
   "cell_type": "code",
   "execution_count": null,
   "id": "f7d2cc0b-443d-4a08-adad-2058a4ba7cec",
   "metadata": {
    "tags": []
   },
   "outputs": [],
   "source": [
    "MAX_DEGREE = 3"
   ]
  },
  {
   "cell_type": "markdown",
   "id": "b1e58f8e-7fea-4110-980c-0c56d39b701f",
   "metadata": {
    "execution": {
     "iopub.execute_input": "2022-01-05T18:15:34.129057Z",
     "iopub.status.busy": "2022-01-05T18:15:34.128636Z",
     "iopub.status.idle": "2022-01-05T18:15:34.160461Z",
     "shell.execute_reply": "2022-01-05T18:15:34.159471Z",
     "shell.execute_reply.started": "2022-01-05T18:15:34.129018Z"
    }
   },
   "source": [
    "## Load"
   ]
  },
  {
   "cell_type": "code",
   "execution_count": null,
   "id": "56c75e2e-cb42-4824-aa1b-1739a8328608",
   "metadata": {
    "tags": []
   },
   "outputs": [],
   "source": [
    "def phi_structure_filename_to_state(filename):\n",
    "    return tuple(map(int, str(filename.stem).split(\"__state_\")[1]))"
   ]
  },
  {
   "cell_type": "code",
   "execution_count": null,
   "id": "40bc843d-7ee9-488b-93d7-6dd8cc8b5013",
   "metadata": {
    "tags": []
   },
   "outputs": [],
   "source": [
    "PHI_STRUCTURE_FILENAME_TEMPLATE = (\n",
    "    \"phi-structure__max-degree_{max_degree}__{name}__state_{state}.json\"\n",
    ")\n",
    "\n",
    "\n",
    "def load_phi_structures_all_states(path, name, max_degree=3):\n",
    "    \"\"\"Load all PhiStructure files in a directory (for the current max degree).\"\"\"\n",
    "    max_degree = MAX_DEGREE if max_degree is None else max_degree\n",
    "    pattern = PHI_STRUCTURE_FILENAME_TEMPLATE.format(\n",
    "        max_degree=MAX_DEGREE, name=name, state=\"*\"\n",
    "    )\n",
    "    print(pattern)\n",
    "    return {\n",
    "        phi_structure_filename_to_state(filename): PhiStructure.read_pickle(filename)\n",
    "        for filename in tqdm(list(path.glob(pattern)))\n",
    "    }"
   ]
  },
  {
   "cell_type": "code",
   "execution_count": null,
   "id": "34fd0df3-dada-4fc9-b1a3-870c4024c75e",
   "metadata": {
    "tags": []
   },
   "outputs": [],
   "source": [
    "if LOAD_DIR is not None:\n",
    "    assert LOAD_DIR.exists()\n",
    "    PHI_STRUCTURES = load_phi_structures_all_states(LOAD_DIR, name)\n",
    "else:\n",
    "    print(\"No load directory specified; not loading relations.\")"
   ]
  },
  {
   "cell_type": "code",
   "execution_count": null,
   "id": "c95ba6cf-8463-44cd-ab9c-516797e8bfbf",
   "metadata": {},
   "outputs": [],
   "source": [
    "all_data"
   ]
  },
  {
   "cell_type": "code",
   "execution_count": null,
   "id": "a76d1a8c-edd8-4e2d-8768-00e73459c40c",
   "metadata": {
    "tags": []
   },
   "outputs": [],
   "source": [
    "ces_df['mechanism'].unique()"
   ]
  },
  {
   "cell_type": "code",
   "execution_count": null,
   "id": "b21f4315-2050-4d83-8e28-6e26f7807f50",
   "metadata": {},
   "outputs": [],
   "source": [
    "subsystem = SUBSYSTEMS[STATES[7]]"
   ]
  },
  {
   "cell_type": "code",
   "execution_count": null,
   "id": "02540690-5135-4601-bd2f-d57f53f3b647",
   "metadata": {
    "tags": []
   },
   "outputs": [],
   "source": [
    "subsystem.concept((11,)"
   ]
  },
  {
   "cell_type": "code",
   "execution_count": null,
   "id": "ceb8e8c0-b452-47e9-beaa-7f59db707b84",
   "metadata": {},
   "outputs": [],
   "source": [
    "cause_purview = (5,6,7,8,9)\n",
    "effect_purview = (15,)\n",
    "mechanism = (11,)\n",
    "\n",
    "cause_rep = list(pyphi.distribution.flatten(subsystem.cause_repertoire(mechanism,cause_purview)))\n",
    "uc_cause_rep = list(pyphi.distribution.flatten(subsystem.unconstrained_cause_repertoire(cause_purview)))\n",
    "effect_rep = list(pyphi.distribution.flatten(subsystem.effect_repertoire(mechanism,effect_purview)))\n",
    "uc_effect_rep = list(pyphi.distribution.flatten(subsystem.unconstrained_effect_repertoire(effect_purview)))\n",
    "cause_states = [''.join([str(i) for i in state]) for state in pyphi.utils.all_states(len(cause_purview))]\n",
    "effect_states = [''.join([str(i) for i in state]) for state in pyphi.utils.all_states(len(effect_purview))]\n",
    "\n",
    "plt.figure(figsize=(20,5))\n",
    "\n",
    "plt.subplot(1,2,1)\n",
    "\n",
    "plt.bar(cause_states, cause_rep, color='red', edgecolor='red')\n",
    "plt.xticks(tuple(range(len(cause_states))), cause_states, rotation=90)\n",
    "\n",
    "plt.bar(cause_states, uc_cause_rep, color='white', edgecolor='red', alpha=0.5)\n",
    "plt.xticks(tuple(range(len(cause_states))), cause_states, rotation=90)\n",
    "\n",
    "plt.title('Cause repertoires for mechanism {} in state {} over purview {}'.format(mechanism, tuple([s for i,s in enumerate(subsystem.state) if i in mechanism]), cause_purview))\n",
    "\n",
    "plt.subplot(1,2,2)\n",
    "plt.bar(effect_states, effect_rep, color='green', edgecolor='green')\n",
    "plt.xticks(tuple(range(len(effect_states))), effect_states, rotation=90)\n",
    "\n",
    "plt.bar(effect_states, uc_effect_rep, color='white', edgecolor='green', alpha=0.5)\n",
    "plt.xticks(tuple(range(len(effect_states))), effect_states, rotation=90)\n",
    "\n",
    "plt.title('Effect repertoires for mechanism {} in state {} over purview {}'.format(mechanism, tuple([s for i,s in enumerate(subsystem.state) if i in mechanism]), effect_purview))"
   ]
  },
  {
   "cell_type": "code",
   "execution_count": null,
   "id": "cfcce927-d25f-4669-b2dd-10db131d65f8",
   "metadata": {},
   "outputs": [],
   "source": [
    "subsystem.state[11]"
   ]
  },
  {
   "cell_type": "code",
   "execution_count": null,
   "id": "7e02e132-bfc7-4ede-a106-91ed79ad6e00",
   "metadata": {},
   "outputs": [],
   "source": [
    "detector_units[1].tpm[(0,0,0,0,0,0)]"
   ]
  },
  {
   "cell_type": "code",
   "execution_count": null,
   "id": "1de6ecbe-9fee-4d0e-a9c5-be32e3d26589",
   "metadata": {},
   "outputs": [],
   "source": [
    "detector_units[1].tpm[(0,0,0,0,0,1)]"
   ]
  },
  {
   "cell_type": "code",
   "execution_count": null,
   "id": "5e6f2578-dabd-41b0-884b-2f61ca2fbaad",
   "metadata": {},
   "outputs": [],
   "source": []
  }
 ],
 "metadata": {
  "kernelspec": {
   "display_name": "Python 3 (ipykernel)",
   "language": "python",
   "name": "python3"
  },
  "language_info": {
   "codemirror_mode": {
    "name": "ipython",
    "version": 3
   },
   "file_extension": ".py",
   "mimetype": "text/x-python",
   "name": "python",
   "nbconvert_exporter": "python",
   "pygments_lexer": "ipython3",
   "version": "3.9.13"
  }
 },
 "nbformat": 4,
 "nbformat_minor": 5
}
